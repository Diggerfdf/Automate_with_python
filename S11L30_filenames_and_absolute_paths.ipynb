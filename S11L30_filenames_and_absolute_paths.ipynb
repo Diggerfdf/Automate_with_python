{
 "cells": [
  {
   "cell_type": "markdown",
   "metadata": {},
   "source": [
    "If you have a list of folder names, you can use join to create a path! This is the code for Windows."
   ]
  },
  {
   "cell_type": "code",
   "execution_count": 6,
   "metadata": {},
   "outputs": [
    {
     "data": {
      "text/plain": [
       "'folder1\\\\folder2\\\\folder3\\\\file.png'"
      ]
     },
     "execution_count": 6,
     "metadata": {},
     "output_type": "execute_result"
    }
   ],
   "source": [
    "'\\\\'.join(['folder1', 'folder2', 'folder3', 'file.png'])"
   ]
  },
  {
   "cell_type": "code",
   "execution_count": 7,
   "metadata": {},
   "outputs": [],
   "source": [
    "import os"
   ]
  },
  {
   "cell_type": "markdown",
   "metadata": {},
   "source": [
    "With the os module, you get the code for the actual operating system."
   ]
  },
  {
   "cell_type": "code",
   "execution_count": 9,
   "metadata": {},
   "outputs": [
    {
     "data": {
      "text/plain": [
       "'folder1/folder2/folder3/file.png'"
      ]
     },
     "execution_count": 9,
     "metadata": {},
     "output_type": "execute_result"
    }
   ],
   "source": [
    "os.path.join('folder1', 'folder2', 'folder3', 'file.png')"
   ]
  },
  {
   "cell_type": "markdown",
   "metadata": {},
   "source": [
    "To now your current working directory \"pwd\" in linux, you use:"
   ]
  },
  {
   "cell_type": "code",
   "execution_count": 10,
   "metadata": {},
   "outputs": [
    {
     "data": {
      "text/plain": [
       "'/home/digger/Classes/Python/Automate_with'"
      ]
     },
     "execution_count": 10,
     "metadata": {},
     "output_type": "execute_result"
    }
   ],
   "source": [
    "os.getcwd()"
   ]
  },
  {
   "cell_type": "markdown",
   "metadata": {},
   "source": [
    "The cd in linux is:"
   ]
  },
  {
   "cell_type": "code",
   "execution_count": 19,
   "metadata": {},
   "outputs": [],
   "source": [
    "os.chdir('/home')"
   ]
  },
  {
   "cell_type": "code",
   "execution_count": 20,
   "metadata": {},
   "outputs": [
    {
     "data": {
      "text/plain": [
       "'/home'"
      ]
     },
     "execution_count": 20,
     "metadata": {},
     "output_type": "execute_result"
    }
   ],
   "source": [
    "os.getcwd()"
   ]
  },
  {
   "cell_type": "markdown",
   "metadata": {},
   "source": [
    "If you use a function like ```DELETE_THIS_FILE('spam.png')``` python will assume the file is now on the /home location"
   ]
  },
  {
   "cell_type": "markdown",
   "metadata": {},
   "source": [
    "## Absolute and Relative File path"
   ]
  },
  {
   "cell_type": "markdown",
   "metadata": {},
   "source": [
    "Absolute is the full path of the file. Relative is relative to the current folder."
   ]
  },
  {
   "cell_type": "code",
   "execution_count": 21,
   "metadata": {},
   "outputs": [
    {
     "data": {
      "text/plain": [
       "'folder1/folder2/spam.png'"
      ]
     },
     "execution_count": 21,
     "metadata": {},
     "output_type": "execute_result"
    }
   ],
   "source": [
    "'folder1/folder2/spam.png'"
   ]
  },
  {
   "cell_type": "markdown",
   "metadata": {},
   "source": [
    "## The . and the .. \"folders\""
   ]
  },
  {
   "cell_type": "markdown",
   "metadata": {},
   "source": [
    "one . is this folder. Two .. is the parent folder"
   ]
  },
  {
   "cell_type": "code",
   "execution_count": 22,
   "metadata": {},
   "outputs": [],
   "source": [
    "os.chdir('/home/digger/Classes/Python/Automate_with')"
   ]
  },
  {
   "cell_type": "code",
   "execution_count": 24,
   "metadata": {},
   "outputs": [
    {
     "data": {
      "text/plain": [
       "'/home/digger/Classes/Python/Automate_with'"
      ]
     },
     "execution_count": 24,
     "metadata": {},
     "output_type": "execute_result"
    }
   ],
   "source": [
    "os.getcwd()"
   ]
  },
  {
   "cell_type": "markdown",
   "metadata": {},
   "source": [
    "## Functions os.path.abspath() and os.path.isabs()"
   ]
  },
  {
   "cell_type": "code",
   "execution_count": 25,
   "metadata": {},
   "outputs": [
    {
     "data": {
      "text/plain": [
       "'/home/digger/Classes/Python/Automate_with/spam.png'"
      ]
     },
     "execution_count": 25,
     "metadata": {},
     "output_type": "execute_result"
    }
   ],
   "source": [
    "os.path.abspath('spam.png')"
   ]
  },
  {
   "cell_type": "code",
   "execution_count": 28,
   "metadata": {},
   "outputs": [
    {
     "data": {
      "text/plain": [
       "'/home/digger/Classes/spam.png'"
      ]
     },
     "execution_count": 28,
     "metadata": {},
     "output_type": "execute_result"
    }
   ],
   "source": [
    "os.path.abspath('../../spam.png')"
   ]
  },
  {
   "cell_type": "code",
   "execution_count": 29,
   "metadata": {},
   "outputs": [
    {
     "data": {
      "text/plain": [
       "False"
      ]
     },
     "execution_count": 29,
     "metadata": {},
     "output_type": "execute_result"
    }
   ],
   "source": [
    "os.path.isabs('../')"
   ]
  },
  {
   "cell_type": "code",
   "execution_count": 31,
   "metadata": {},
   "outputs": [
    {
     "data": {
      "text/plain": [
       "True"
      ]
     },
     "execution_count": 31,
     "metadata": {},
     "output_type": "execute_result"
    }
   ],
   "source": [
    "os.path.isabs('/home/digger/Classes/Python/Automate_with')"
   ]
  },
  {
   "cell_type": "code",
   "execution_count": 36,
   "metadata": {},
   "outputs": [
    {
     "data": {
      "text/plain": [
       "'../home/digger/Classes/Python'"
      ]
     },
     "execution_count": 36,
     "metadata": {},
     "output_type": "execute_result"
    }
   ],
   "source": [
    "os.path.relpath('/home/digger/Classes/Python/', '/digger')"
   ]
  },
  {
   "cell_type": "markdown",
   "metadata": {},
   "source": [
    "## Functions to get the name of the files"
   ]
  },
  {
   "cell_type": "code",
   "execution_count": 37,
   "metadata": {},
   "outputs": [
    {
     "data": {
      "text/plain": [
       "'/home/digger/Classes/Python'"
      ]
     },
     "execution_count": 37,
     "metadata": {},
     "output_type": "execute_result"
    }
   ],
   "source": [
    "os.path.dirname('/home/digger/Classes/Python/Automate_with')"
   ]
  },
  {
   "cell_type": "markdown",
   "metadata": {},
   "source": [
    "dirname will retrive the full pathname."
   ]
  },
  {
   "cell_type": "code",
   "execution_count": 38,
   "metadata": {
    "scrolled": true
   },
   "outputs": [
    {
     "data": {
      "text/plain": [
       "'zophie.png'"
      ]
     },
     "execution_count": 38,
     "metadata": {},
     "output_type": "execute_result"
    }
   ],
   "source": [
    "os.path.basename('/home/digger/Classes/Python/Automate_with/Resources/zophie.png')"
   ]
  },
  {
   "cell_type": "markdown",
   "metadata": {},
   "source": [
    "basename will return the final basename, right after the final slash. Could be a folder name or a file name."
   ]
  },
  {
   "cell_type": "markdown",
   "metadata": {},
   "source": [
    "## Function to check if the file is on the folder"
   ]
  },
  {
   "cell_type": "code",
   "execution_count": 39,
   "metadata": {},
   "outputs": [
    {
     "data": {
      "text/plain": [
       "True"
      ]
     },
     "execution_count": 39,
     "metadata": {},
     "output_type": "execute_result"
    }
   ],
   "source": [
    "os.path.exists('/home/digger/Classes/Python/Automate_with/Resources/zophie.png')"
   ]
  },
  {
   "cell_type": "code",
   "execution_count": 41,
   "metadata": {},
   "outputs": [
    {
     "data": {
      "text/plain": [
       "False"
      ]
     },
     "execution_count": 41,
     "metadata": {},
     "output_type": "execute_result"
    }
   ],
   "source": [
    "os.path.exists('/home/digger/Classes/Barabambara')"
   ]
  },
  {
   "cell_type": "markdown",
   "metadata": {},
   "source": [
    "## Function to check if is a file or a folder"
   ]
  },
  {
   "cell_type": "code",
   "execution_count": 42,
   "metadata": {},
   "outputs": [
    {
     "data": {
      "text/plain": [
       "True"
      ]
     },
     "execution_count": 42,
     "metadata": {},
     "output_type": "execute_result"
    }
   ],
   "source": [
    "os.path.isfile('/home/digger/Classes/Python/Automate_with/Resources/zophie.png')"
   ]
  },
  {
   "cell_type": "code",
   "execution_count": 44,
   "metadata": {},
   "outputs": [
    {
     "data": {
      "text/plain": [
       "True"
      ]
     },
     "execution_count": 44,
     "metadata": {},
     "output_type": "execute_result"
    }
   ],
   "source": [
    "os.path.isdir('/home/digger/Classes/Python/Automate_with')"
   ]
  },
  {
   "cell_type": "markdown",
   "metadata": {},
   "source": [
    "## Checking the size of a file in bytes"
   ]
  },
  {
   "cell_type": "code",
   "execution_count": 45,
   "metadata": {},
   "outputs": [
    {
     "data": {
      "text/plain": [
       "1364265"
      ]
     },
     "execution_count": 45,
     "metadata": {},
     "output_type": "execute_result"
    }
   ],
   "source": [
    "os.path.getsize('/home/digger/Classes/Python/Automate_with/Resources/zophie.png')"
   ]
  },
  {
   "cell_type": "code",
   "execution_count": 46,
   "metadata": {},
   "outputs": [
    {
     "data": {
      "text/plain": [
       "['S03L08_builtin_functions.ipynb',\n",
       " 'S02L06_while_loops.ipynb',\n",
       " 'S07L18_data_structures.ipynb',\n",
       " 'S10L29_regex_program',\n",
       " '.idea',\n",
       " 'S06L14_for_loops_lists.ipynb',\n",
       " 'S11L30_filenames_and_absolute_paths.ipynb',\n",
       " 'S08L19_advanced_string_syntax.ipynb',\n",
       " 'S02L05_if_else.ipynb',\n",
       " 'S10L25_repetition_in_regex_greedy_non_greedy.ipynb',\n",
       " 'S10L26_regex_character_classes_findall_method.ipynb',\n",
       " 'S02L04_flow_charts_control.ipynb',\n",
       " 'S08L21_string_formating.ipynb',\n",
       " 'S07L17_dictionary_data_type.ipynb',\n",
       " 'S06L13_list_data.ipynb',\n",
       " 'S10L28_regex_sub_method_verbose_mode.ipynb',\n",
       " 'S10L29_regex_program.py',\n",
       " 'S03L10_global_and_local_scopes.ipynb',\n",
       " 'Resources',\n",
       " '.ipynb_checkpoints',\n",
       " 'S02L07_for_loops.ipynb',\n",
       " 'S09L22_launching_outside_idle.ipynb',\n",
       " 'S08L20_string_methods.ipynb',\n",
       " 'test.py',\n",
       " 'S05L12_guess_the_number.ipynb',\n",
       " 'S01L02_basic_idle.ipynb',\n",
       " 'S06L16_lists_and_strings.ipynb',\n",
       " 'S10L24_regex_groups_and_pipe_character.ipynb',\n",
       " 'S03L09_your_own_functions.ipynb',\n",
       " 'S10L27_regex_dot_star_caret_dollar.ipynb',\n",
       " 'S01L03_first_program.ipynb',\n",
       " 'S10L23_regex_basics.ipynb',\n",
       " 'S06L15_list_mehtods.ipynb',\n",
       " 'ltest.py',\n",
       " '.vscode',\n",
       " 'S04L11_try_except.ipynb']"
      ]
     },
     "execution_count": 46,
     "metadata": {},
     "output_type": "execute_result"
    }
   ],
   "source": [
    "os.listdir('/home/digger/Classes/Python/Automate_with')"
   ]
  },
  {
   "cell_type": "code",
   "execution_count": 50,
   "metadata": {},
   "outputs": [
    {
     "data": {
      "text/plain": [
       "195285"
      ]
     },
     "execution_count": 50,
     "metadata": {},
     "output_type": "execute_result"
    }
   ],
   "source": [
    "totalSize = 0\n",
    "wpath = '/home/digger/Classes/Python/Automate_with'\n",
    "\n",
    "for filename in os.listdir(wpath):\n",
    "    if not os.path.isfile(os.path.join(wpath, filename)):\n",
    "        continue\n",
    "    totalSize = totalSize + os.path.getsize(os.path.join(wpath, filename))\n",
    "        \n",
    "totalSize               "
   ]
  },
  {
   "cell_type": "markdown",
   "metadata": {},
   "source": [
    "## Makedirs"
   ]
  },
  {
   "cell_type": "code",
   "execution_count": 51,
   "metadata": {},
   "outputs": [],
   "source": [
    "os.makedirs('/home/digger/Classes/Python/Automate_with/test1/test2/test3')"
   ]
  },
  {
   "cell_type": "code",
   "execution_count": 53,
   "metadata": {},
   "outputs": [
    {
     "data": {
      "text/plain": [
       "['S03L08_builtin_functions.ipynb',\n",
       " 'S02L06_while_loops.ipynb',\n",
       " 'S07L18_data_structures.ipynb',\n",
       " 'S10L29_regex_program',\n",
       " '.idea',\n",
       " 'S06L14_for_loops_lists.ipynb',\n",
       " 'S11L30_filenames_and_absolute_paths.ipynb',\n",
       " 'S08L19_advanced_string_syntax.ipynb',\n",
       " 'S02L05_if_else.ipynb',\n",
       " 'S10L25_repetition_in_regex_greedy_non_greedy.ipynb',\n",
       " 'S10L26_regex_character_classes_findall_method.ipynb',\n",
       " 'S02L04_flow_charts_control.ipynb',\n",
       " 'S08L21_string_formating.ipynb',\n",
       " 'S07L17_dictionary_data_type.ipynb',\n",
       " 'S06L13_list_data.ipynb',\n",
       " 'S10L28_regex_sub_method_verbose_mode.ipynb',\n",
       " 'S10L29_regex_program.py',\n",
       " 'S03L10_global_and_local_scopes.ipynb',\n",
       " 'Resources',\n",
       " '.ipynb_checkpoints',\n",
       " 'S02L07_for_loops.ipynb',\n",
       " 'S09L22_launching_outside_idle.ipynb',\n",
       " 'S08L20_string_methods.ipynb',\n",
       " 'test.py',\n",
       " 'S05L12_guess_the_number.ipynb',\n",
       " 'S01L02_basic_idle.ipynb',\n",
       " 'S06L16_lists_and_strings.ipynb',\n",
       " 'S10L24_regex_groups_and_pipe_character.ipynb',\n",
       " 'S03L09_your_own_functions.ipynb',\n",
       " 'S10L27_regex_dot_star_caret_dollar.ipynb',\n",
       " 'S01L03_first_program.ipynb',\n",
       " 'S10L23_regex_basics.ipynb',\n",
       " 'S06L15_list_mehtods.ipynb',\n",
       " 'test1',\n",
       " 'ltest.py',\n",
       " '.vscode',\n",
       " 'S04L11_try_except.ipynb']"
      ]
     },
     "execution_count": 53,
     "metadata": {},
     "output_type": "execute_result"
    }
   ],
   "source": [
    "os.listdir('/home/digger/Classes/Python/Automate_with')"
   ]
  }
 ],
 "metadata": {
  "kernelspec": {
   "display_name": "Python 3",
   "language": "python",
   "name": "python3"
  },
  "language_info": {
   "codemirror_mode": {
    "name": "ipython",
    "version": 3
   },
   "file_extension": ".py",
   "mimetype": "text/x-python",
   "name": "python",
   "nbconvert_exporter": "python",
   "pygments_lexer": "ipython3",
   "version": "3.6.6"
  }
 },
 "nbformat": 4,
 "nbformat_minor": 2
}
