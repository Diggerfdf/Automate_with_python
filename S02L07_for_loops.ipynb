{
 "cells": [
  {
   "cell_type": "code",
   "execution_count": 1,
   "metadata": {},
   "outputs": [
    {
     "name": "stdout",
     "output_type": "stream",
     "text": [
      "My name is\n",
      "Jimmy Five Times 0\n",
      "Jimmy Five Times 1\n",
      "Jimmy Five Times 2\n",
      "Jimmy Five Times 3\n",
      "Jimmy Five Times 4\n"
     ]
    }
   ],
   "source": [
    "print('My name is')\n",
    "\n",
    "for i in range(5):\n",
    "    print('Jimmy Five Times ' + str(i))"
   ]
  },
  {
   "cell_type": "markdown",
   "metadata": {},
   "source": [
    "Gauss calculate 1 + 2 + 3 + 4 + 5 upt too 100. We don't need a formula! We can use a Python program!"
   ]
  },
  {
   "cell_type": "code",
   "execution_count": 3,
   "metadata": {},
   "outputs": [
    {
     "name": "stdout",
     "output_type": "stream",
     "text": [
      "5050\n"
     ]
    }
   ],
   "source": [
    "total = 0\n",
    "\n",
    "for num in range(101):\n",
    "    total = total + num\n",
    "    \n",
    "print(total)\n",
    "    "
   ]
  },
  {
   "cell_type": "code",
   "execution_count": 4,
   "metadata": {},
   "outputs": [
    {
     "name": "stdout",
     "output_type": "stream",
     "text": [
      "Jimmy Five Times 0\n",
      "Jimmy Five Times 1\n",
      "Jimmy Five Times 2\n",
      "Jimmy Five Times 3\n",
      "Jimmy Five Times 4\n"
     ]
    }
   ],
   "source": [
    "i = 0 \n",
    "while i < 5:\n",
    "    print('Jimmy Five Times ' + str(i))\n",
    "    i = i + 1"
   ]
  },
  {
   "cell_type": "code",
   "execution_count": 5,
   "metadata": {},
   "outputs": [
    {
     "data": {
      "text/plain": [
       "range(0, 10)"
      ]
     },
     "execution_count": 5,
     "metadata": {},
     "output_type": "execute_result"
    }
   ],
   "source": [
    "range(10)"
   ]
  },
  {
   "cell_type": "code",
   "execution_count": 6,
   "metadata": {},
   "outputs": [
    {
     "name": "stdout",
     "output_type": "stream",
     "text": [
      "Jimmy Five Times 12\n",
      "Jimmy Five Times 13\n",
      "Jimmy Five Times 14\n",
      "Jimmy Five Times 15\n"
     ]
    }
   ],
   "source": [
    "for i in range(12, 16):\n",
    "    print('Jimmy Five Times ' + str(i))"
   ]
  },
  {
   "cell_type": "code",
   "execution_count": 8,
   "metadata": {},
   "outputs": [
    {
     "name": "stdout",
     "output_type": "stream",
     "text": [
      "Jimmy Five Times 0\n",
      "Jimmy Five Times 2\n",
      "Jimmy Five Times 4\n",
      "Jimmy Five Times 6\n",
      "Jimmy Five Times 8\n",
      "Jimmy Five Times 10\n"
     ]
    }
   ],
   "source": [
    "for i in range(0, 11, 2):\n",
    "    print('Jimmy Five Times ' + str(i))"
   ]
  },
  {
   "cell_type": "code",
   "execution_count": 9,
   "metadata": {},
   "outputs": [
    {
     "name": "stdout",
     "output_type": "stream",
     "text": [
      "Jimmy Five Times 5\n",
      "Jimmy Five Times 4\n",
      "Jimmy Five Times 3\n",
      "Jimmy Five Times 2\n",
      "Jimmy Five Times 1\n",
      "Jimmy Five Times 0\n"
     ]
    }
   ],
   "source": [
    "for i in range(5, -1, -1):\n",
    "    print('Jimmy Five Times ' + str(i))"
   ]
  },
  {
   "cell_type": "code",
   "execution_count": 11,
   "metadata": {},
   "outputs": [
    {
     "name": "stdout",
     "output_type": "stream",
     "text": [
      "10\n",
      "9\n",
      "8\n",
      "7\n",
      "6\n",
      "5\n",
      "4\n",
      "3\n",
      "2\n",
      "1\n",
      "0\n",
      "IGNITION!\n",
      "We have a Lift off\n"
     ]
    }
   ],
   "source": [
    "for i in range(10, -1, -1):\n",
    "    print(str(i))\n",
    "print('IGNITION!')\n",
    "print('We have a Lift off')"
   ]
  },
  {
   "cell_type": "markdown",
   "metadata": {},
   "source": [
    "Range has 3 arguments. The first is the start point. The second is the end point (not inclusive) and the third is the step value. So, (2, 11, 2) Will count from 2 to 10, only even numbers."
   ]
  }
 ],
 "metadata": {
  "kernelspec": {
   "display_name": "Python 3",
   "language": "python",
   "name": "python3"
  },
  "language_info": {
   "codemirror_mode": {
    "name": "ipython",
    "version": 3
   },
   "file_extension": ".py",
   "mimetype": "text/x-python",
   "name": "python",
   "nbconvert_exporter": "python",
   "pygments_lexer": "ipython3",
   "version": "3.6.6"
  }
 },
 "nbformat": 4,
 "nbformat_minor": 2
}
