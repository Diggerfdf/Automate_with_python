{
 "cells": [
  {
   "cell_type": "code",
   "execution_count": 1,
   "metadata": {},
   "outputs": [
    {
     "name": "stdout",
     "output_type": "stream",
     "text": [
      "Hello World\n",
      "Hello World\n",
      "Hello World\n",
      "Hello World\n",
      "Hello World\n"
     ]
    }
   ],
   "source": [
    "spam = 0\n",
    "while spam < 5:\n",
    "    print('Hello World')\n",
    "    spam = spam +1"
   ]
  },
  {
   "cell_type": "code",
   "execution_count": 2,
   "metadata": {},
   "outputs": [
    {
     "name": "stdout",
     "output_type": "stream",
     "text": [
      "Please type your name: \n",
      "Joaquina\n",
      "Please type your name: \n",
      "Otávio\n",
      "Please type your name: \n",
      "Your name\n",
      "Please type your name: \n",
      "Fabiano\n",
      "Thank You\n"
     ]
    }
   ],
   "source": [
    "name = ''\n",
    "while name != 'Fabiano':\n",
    "    print(\"Please type your name: \")\n",
    "    name = input()\n",
    "print('Thank You')"
   ]
  },
  {
   "cell_type": "markdown",
   "metadata": {},
   "source": [
    "True will always evaluate to true. So, you need to put the if statement inside the loop. If it checks, they will break the loop and go on to the next statement."
   ]
  },
  {
   "cell_type": "code",
   "execution_count": 3,
   "metadata": {},
   "outputs": [
    {
     "name": "stdout",
     "output_type": "stream",
     "text": [
      "Please type your name: \n",
      "joaquina\n",
      "Please type your name: \n",
      "otávio\n",
      "Please type your name: \n",
      "sandra\n",
      "Please type your name: \n",
      "wilson\n",
      "Please type your name: \n",
      "wagner\n",
      "Please type your name: \n",
      "nicola\n",
      "Please type your name: \n",
      "nicomedia\n",
      "Please type your name: \n",
      "amadeu\n",
      "Please type your name: \n",
      "julia\n",
      "Please type your name: \n",
      "Your name\n",
      "Thank You\n"
     ]
    }
   ],
   "source": [
    "name = ''\n",
    "while True:\n",
    "    print(\"Please type your name: \")\n",
    "    name = input()\n",
    "    if name == 'Your name':\n",
    "        break\n",
    "        \n",
    "print('Thank You')"
   ]
  },
  {
   "cell_type": "markdown",
   "metadata": {},
   "source": [
    "In this case, spam == 3 will flow to continue, sending the program back to the While statement, without passing through the Print statement, therefore, the \"Span is 3\" is missing"
   ]
  },
  {
   "cell_type": "code",
   "execution_count": 4,
   "metadata": {},
   "outputs": [
    {
     "name": "stdout",
     "output_type": "stream",
     "text": [
      "Span is 1\n",
      "Span is 2\n",
      "Span is 4\n",
      "Span is 5\n"
     ]
    }
   ],
   "source": [
    "spam = 0\n",
    "while spam < 5:\n",
    "    spam = spam + 1\n",
    "    if spam == 3:\n",
    "        continue\n",
    "    print('Span is ' + str(spam))"
   ]
  },
  {
   "cell_type": "markdown",
   "metadata": {},
   "source": [
    "Remember:\n",
    "\n",
    "- A ```break``` statement causes the execution to immediately leave the loop, without re-checking the condition.\n",
    "\n",
    "- A ```continue``` statement causes the execution to immediately jump back to the start of the loop and re-check the condition."
   ]
  }
 ],
 "metadata": {
  "kernelspec": {
   "display_name": "Python 3",
   "language": "python",
   "name": "python3"
  },
  "language_info": {
   "codemirror_mode": {
    "name": "ipython",
    "version": 3
   },
   "file_extension": ".py",
   "mimetype": "text/x-python",
   "name": "python",
   "nbconvert_exporter": "python",
   "pygments_lexer": "ipython3",
   "version": "3.6.6"
  }
 },
 "nbformat": 4,
 "nbformat_minor": 2
}
