{
 "cells": [
  {
   "cell_type": "code",
   "execution_count": 1,
   "metadata": {},
   "outputs": [],
   "source": [
    "import os"
   ]
  },
  {
   "cell_type": "markdown",
   "metadata": {},
   "source": [
    "os.unlink() delete a single file"
   ]
  },
  {
   "cell_type": "code",
   "execution_count": 2,
   "metadata": {},
   "outputs": [],
   "source": [
    "os.unlink('S10L29_regex_program')"
   ]
  },
  {
   "cell_type": "code",
   "execution_count": 3,
   "metadata": {},
   "outputs": [],
   "source": [
    "os.unlink('bacon.txt')"
   ]
  },
  {
   "cell_type": "markdown",
   "metadata": {},
   "source": [
    "os.rmdir delete an empty folder"
   ]
  },
  {
   "cell_type": "markdown",
   "metadata": {},
   "source": [
    "shutil.rmtree() will delete everything."
   ]
  },
  {
   "cell_type": "code",
   "execution_count": 5,
   "metadata": {},
   "outputs": [
    {
     "data": {
      "text/plain": [
       "'/home/digger/Classes/Python/Automate_with'"
      ]
     },
     "execution_count": 5,
     "metadata": {},
     "output_type": "execute_result"
    }
   ],
   "source": [
    "os.getcwd()"
   ]
  },
  {
   "cell_type": "code",
   "execution_count": 6,
   "metadata": {},
   "outputs": [
    {
     "data": {
      "text/plain": [
       "['spam.txt',\n",
       " 'S03L08_builtin_functions.ipynb',\n",
       " 'S11L31_reading_writing_plain_text.ipynb',\n",
       " 'S11L33_deleting_files.ipynb',\n",
       " 'S02L06_while_loops.ipynb',\n",
       " 'S07L18_data_structures.ipynb',\n",
       " '.idea',\n",
       " 'S06L14_for_loops_lists.ipynb',\n",
       " 'S11L30_filenames_and_absolute_paths.ipynb',\n",
       " 'S08L19_advanced_string_syntax.ipynb',\n",
       " 'S02L05_if_else.ipynb',\n",
       " 'mydata.dir',\n",
       " 'S10L25_repetition_in_regex_greedy_non_greedy.ipynb',\n",
       " 'mydata.dat',\n",
       " 'S11L32_copying_moving_files.ipynb',\n",
       " 'S10L26_regex_character_classes_findall_method.ipynb',\n",
       " 'S02L04_flow_charts_control.ipynb',\n",
       " 'S08L21_string_formating.ipynb',\n",
       " 'S07L17_dictionary_data_type.ipynb',\n",
       " 'Test1',\n",
       " 'S06L13_list_data.ipynb',\n",
       " 'S10L28_regex_sub_method_verbose_mode.ipynb',\n",
       " 'S10L29_regex_program.py',\n",
       " 'S03L10_global_and_local_scopes.ipynb',\n",
       " 'Resources',\n",
       " '.ipynb_checkpoints',\n",
       " 'S02L07_for_loops.ipynb',\n",
       " 'S09L22_launching_outside_idle.ipynb',\n",
       " 'S08L20_string_methods.ipynb',\n",
       " 'mydata.bak',\n",
       " 'test.py',\n",
       " 'S05L12_guess_the_number.ipynb',\n",
       " 'S01L02_basic_idle.ipynb',\n",
       " 'S06L16_lists_and_strings.ipynb',\n",
       " 'S10L24_regex_groups_and_pipe_character.ipynb',\n",
       " 'S03L09_your_own_functions.ipynb',\n",
       " 'S10L27_regex_dot_star_caret_dollar.ipynb',\n",
       " 'S01L03_first_program.ipynb',\n",
       " 'S10L23_regex_basics.ipynb',\n",
       " 'S06L15_list_mehtods.ipynb',\n",
       " 'ltest.py',\n",
       " '.vscode',\n",
       " 'S04L11_try_except.ipynb']"
      ]
     },
     "execution_count": 6,
     "metadata": {},
     "output_type": "execute_result"
    }
   ],
   "source": [
    "os.listdir()"
   ]
  },
  {
   "cell_type": "code",
   "execution_count": 7,
   "metadata": {},
   "outputs": [],
   "source": [
    "import shutil"
   ]
  },
  {
   "cell_type": "code",
   "execution_count": 8,
   "metadata": {},
   "outputs": [],
   "source": [
    "shutil.rmtree('Test1/')"
   ]
  },
  {
   "cell_type": "markdown",
   "metadata": {},
   "source": [
    "These are high end functions. You can really mess up your system. So, it's better to perform a Dry-run. Comment your code and use a print to check if everything is all right. "
   ]
  },
  {
   "cell_type": "code",
   "execution_count": 14,
   "metadata": {},
   "outputs": [
    {
     "name": "stdout",
     "output_type": "stream",
     "text": [
      "notes.txt\n"
     ]
    }
   ],
   "source": [
    "os.chdir('/home/digger/Desktop/')\n",
    "\n",
    "for filename in os.listdir():\n",
    "    if filename.endswith('.txt'):\n",
    "        # os.unlink(filename)\n",
    "        print(filename)"
   ]
  },
  {
   "cell_type": "markdown",
   "metadata": {},
   "source": [
    "You can use the module send2trash to implement this safeguard."
   ]
  },
  {
   "cell_type": "code",
   "execution_count": 16,
   "metadata": {},
   "outputs": [],
   "source": [
    "import send2trash"
   ]
  },
  {
   "cell_type": "code",
   "execution_count": 17,
   "metadata": {},
   "outputs": [],
   "source": [
    "send2trash.send2trash('notes.txt')"
   ]
  }
 ],
 "metadata": {
  "kernelspec": {
   "display_name": "Python 3",
   "language": "python",
   "name": "python3"
  },
  "language_info": {
   "codemirror_mode": {
    "name": "ipython",
    "version": 3
   },
   "file_extension": ".py",
   "mimetype": "text/x-python",
   "name": "python",
   "nbconvert_exporter": "python",
   "pygments_lexer": "ipython3",
   "version": "3.6.6"
  }
 },
 "nbformat": 4,
 "nbformat_minor": 2
}
