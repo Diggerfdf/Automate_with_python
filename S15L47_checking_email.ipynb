{
 "cells": [
  {
   "cell_type": "code",
   "execution_count": 1,
   "metadata": {},
   "outputs": [],
   "source": [
    "import imapclient\n",
    "import datetime"
   ]
  },
  {
   "cell_type": "code",
   "execution_count": 2,
   "metadata": {},
   "outputs": [],
   "source": [
    "conn = imapclient.IMAPClient('imap.gmail.com', ssl=True)"
   ]
  },
  {
   "cell_type": "code",
   "execution_count": 3,
   "metadata": {},
   "outputs": [
    {
     "data": {
      "text/plain": [
       "b'diggerfdf@gmail.com authenticated (Success)'"
      ]
     },
     "execution_count": 3,
     "metadata": {},
     "output_type": "execute_result"
    }
   ],
   "source": [
    "conn.login('diggerfdf@gmail.com', 'C4SS10P31A1348')"
   ]
  },
  {
   "cell_type": "markdown",
   "metadata": {},
   "source": [
    "The \"b\" it's a byte response. But you can understand as a string indicating the status of the connection."
   ]
  },
  {
   "cell_type": "code",
   "execution_count": 4,
   "metadata": {},
   "outputs": [
    {
     "data": {
      "text/plain": [
       "{b'PERMANENTFLAGS': (),\n",
       " b'FLAGS': (b'\\\\Answered',\n",
       "  b'\\\\Flagged',\n",
       "  b'\\\\Draft',\n",
       "  b'\\\\Deleted',\n",
       "  b'\\\\Seen',\n",
       "  b'$Forwarded',\n",
       "  b'$Junk',\n",
       "  b'$MDNSent',\n",
       "  b'$NotJunk',\n",
       "  b'$NotPhishing',\n",
       "  b'$Phishing',\n",
       "  b'JunkRecorded',\n",
       "  b'NotJunk'),\n",
       " b'UIDVALIDITY': 601547236,\n",
       " b'EXISTS': 13,\n",
       " b'RECENT': 0,\n",
       " b'UIDNEXT': 106085,\n",
       " b'HIGHESTMODSEQ': 11695219,\n",
       " b'READ-ONLY': [b'']}"
      ]
     },
     "execution_count": 4,
     "metadata": {},
     "output_type": "execute_result"
    }
   ],
   "source": [
    "conn.select_folder('INBOX', readonly=True)"
   ]
  },
  {
   "cell_type": "code",
   "execution_count": 5,
   "metadata": {},
   "outputs": [
    {
     "data": {
      "text/plain": [
       "[106067,\n",
       " 106068,\n",
       " 106069,\n",
       " 106071,\n",
       " 106075,\n",
       " 106076,\n",
       " 106078,\n",
       " 106079,\n",
       " 106080,\n",
       " 106081,\n",
       " 106082,\n",
       " 106083,\n",
       " 106084]"
      ]
     },
     "execution_count": 5,
     "metadata": {},
     "output_type": "execute_result"
    }
   ],
   "source": [
    "conn.search('SINCE 06-Nov-2018')"
   ]
  },
  {
   "cell_type": "code",
   "execution_count": 6,
   "metadata": {},
   "outputs": [],
   "source": [
    "UIDs = conn.search([u'SINCE', datetime.date(2018, 11, 1), u'BEFORE', datetime.date(2018, 11, 8)])"
   ]
  },
  {
   "cell_type": "code",
   "execution_count": 7,
   "metadata": {},
   "outputs": [
    {
     "data": {
      "text/plain": [
       "[106067,\n",
       " 106068,\n",
       " 106069,\n",
       " 106071,\n",
       " 106075,\n",
       " 106076,\n",
       " 106078,\n",
       " 106079,\n",
       " 106080,\n",
       " 106081,\n",
       " 106082,\n",
       " 106083,\n",
       " 106084]"
      ]
     },
     "execution_count": 7,
     "metadata": {},
     "output_type": "execute_result"
    }
   ],
   "source": [
    "UIDs"
   ]
  },
  {
   "cell_type": "code",
   "execution_count": 12,
   "metadata": {},
   "outputs": [],
   "source": [
    "raw_message = conn.fetch([106067], ['BODY[]', 'FLAGS'])"
   ]
  },
  {
   "cell_type": "code",
   "execution_count": 13,
   "metadata": {},
   "outputs": [],
   "source": [
    "import pyzmail"
   ]
  },
  {
   "cell_type": "code",
   "execution_count": 14,
   "metadata": {},
   "outputs": [],
   "source": [
    "message = pyzmail.PyzMessage.factory(raw_message[106067][b'BODY[]'])"
   ]
  },
  {
   "cell_type": "code",
   "execution_count": 15,
   "metadata": {},
   "outputs": [
    {
     "data": {
      "text/plain": [
       "'📸Weird “Photo” BLASTS You Out of Friend Zone'"
      ]
     },
     "execution_count": 15,
     "metadata": {},
     "output_type": "execute_result"
    }
   ],
   "source": [
    "message.get_subject()"
   ]
  },
  {
   "cell_type": "code",
   "execution_count": 16,
   "metadata": {},
   "outputs": [
    {
     "data": {
      "text/plain": [
       "[('Bobby Rio', 'Bobby@tsbmagazine.com')]"
      ]
     },
     "execution_count": 16,
     "metadata": {},
     "output_type": "execute_result"
    }
   ],
   "source": [
    "message.get_addresses('from')"
   ]
  },
  {
   "cell_type": "code",
   "execution_count": 17,
   "metadata": {},
   "outputs": [
    {
     "data": {
      "text/plain": [
       "[('Diggerfdf', 'diggerfdf@gmail.com')]"
      ]
     },
     "execution_count": 17,
     "metadata": {},
     "output_type": "execute_result"
    }
   ],
   "source": [
    "message.get_addresses('to')"
   ]
  },
  {
   "cell_type": "code",
   "execution_count": 18,
   "metadata": {},
   "outputs": [
    {
     "data": {
      "text/plain": [
       "[]"
      ]
     },
     "execution_count": 18,
     "metadata": {},
     "output_type": "execute_result"
    }
   ],
   "source": [
    "message.get_addresses('bcc')"
   ]
  },
  {
   "cell_type": "code",
   "execution_count": 19,
   "metadata": {},
   "outputs": [
    {
     "data": {
      "text/plain": [
       "MailPart<*text/plain charset=UTF-8 len=2102>"
      ]
     },
     "execution_count": 19,
     "metadata": {},
     "output_type": "execute_result"
    }
   ],
   "source": [
    "message.text_part"
   ]
  },
  {
   "cell_type": "code",
   "execution_count": 20,
   "metadata": {},
   "outputs": [
    {
     "data": {
      "text/plain": [
       "MailPart<*text/html charset=UTF-8 len=19061>"
      ]
     },
     "execution_count": 20,
     "metadata": {},
     "output_type": "execute_result"
    }
   ],
   "source": [
    "message.html_part"
   ]
  },
  {
   "cell_type": "code",
   "execution_count": 21,
   "metadata": {},
   "outputs": [
    {
     "data": {
      "text/plain": [
       "False"
      ]
     },
     "execution_count": 21,
     "metadata": {},
     "output_type": "execute_result"
    }
   ],
   "source": [
    "message.html_part == None"
   ]
  },
  {
   "cell_type": "code",
   "execution_count": 22,
   "metadata": {},
   "outputs": [
    {
     "data": {
      "text/plain": [
       "'Did you know…\\r\\n\\r\\nThat you can use this secret, but powerful “photo” to get a female friend to start chasing you?\\r\\n\\r\\nThis trick taps into a “new rule” of dating, and will even re-attract a girl who has already slipped away.\\r\\n\\r\\nHere’s what you do:\\r\\n\\r\\nWait until a few days have gone by since you’ve talked to her. Preferably you should have not spoken to her in at least a week.\\r\\n\\r\\nThen take the picture.\\r\\n\\r\\n[This video will show you what the photo looks like]\\r\\n\\r\\nhttps://bobbyriocoaching.com/click.html?x=a62e&lc=tK2&mc=m&s=1SeV&u=1&y=2&\\r\\n\\r\\nThere is a very specific reason that this photo is so effective as rekindling or sparking interest in a girl. \\r\\n\\r\\nAnd will even blast you out of the friend zone.\\r\\n\\r\\nThe secret lies in the #1 rule of dating nowadays. \\r\\n\\r\\nI know my explanation was kind of brief, but Rob has a VIDEO demonstration of how to use the picture.\\r\\n\\r\\n[Discover how to use THIS weird picture to make a girl chase you]\\r\\n\\r\\nhttps://bobbyriocoaching.com/click.html?x=a62e&lc=tK2&mc=m&s=1SeV&u=1&y=2&\\r\\n\\r\\nSo you can see exactly how to do it...each step of the way.\\r\\n\\r\\nMake it happen!\\r\\n\\r\\nBobby\\r\\n\\r\\nP.S. The dating scene is very bleak right now. \\r\\n\\r\\nTinder, dating apps, Facebook has changed EVERYTHING. And the old, outdated “rules” no longer work.\\r\\n\\r\\nTechniques like this picture make use of a set of “new rules” of dating & attraction.\\r\\n\\r\\n[Discover how to use THIS weird picture to make a girl chase you]\\r\\n\\r\\nhttps://bobbyriocoaching.com/click.html?x=a62e&lc=tK2&mc=m&s=1SeV&u=1&y=2&\\r\\n\\r\\nP.P.S. The rules have changed it doesn’t matter if you want to f**k a new girl every night, or get your ex to give you another chance, or just rekindle things with an old flame who got away.\\r\\n\\r\\n[You must learn the “new rules” of dating]\\r\\n\\r\\nhttps://bobbyriocoaching.com/click.html?x=a62e&lc=tK2&mc=m&s=1SeV&u=1&y=2&\\n\\r\\n333 River St, Hoboken, NJ 07003, United States\\r\\n\\r\\n\\nTo unsubscribe visit:\\nhttps://bobbyriocoaching.com/unsubscribe.html?x=a62e&m=1n2&s=1SeV&u=1&y=N&\\nTo change your contact details visit:\\nhttps://bobbyriocoaching.com/change_details.html?x=a62e&m=1n2&s=1SeV&u=1&y=N&\\n'"
      ]
     },
     "execution_count": 22,
     "metadata": {},
     "output_type": "execute_result"
    }
   ],
   "source": [
    "message.text_part.get_payload().decode('UTF-8')"
   ]
  },
  {
   "cell_type": "code",
   "execution_count": 23,
   "metadata": {},
   "outputs": [
    {
     "data": {
      "text/plain": [
       "'UTF-8'"
      ]
     },
     "execution_count": 23,
     "metadata": {},
     "output_type": "execute_result"
    }
   ],
   "source": [
    "message.text_part.charset"
   ]
  },
  {
   "cell_type": "code",
   "execution_count": 24,
   "metadata": {},
   "outputs": [
    {
     "data": {
      "text/plain": [
       "False"
      ]
     },
     "execution_count": 24,
     "metadata": {},
     "output_type": "execute_result"
    }
   ],
   "source": [
    "message.text_part.charset == None"
   ]
  },
  {
   "cell_type": "code",
   "execution_count": 25,
   "metadata": {},
   "outputs": [
    {
     "data": {
      "text/plain": [
       "[((b'\\\\HasNoChildren',), b'/', 'Apple Mail To Do'),\n",
       " ((b'\\\\HasNoChildren',), b'/', 'Deleted Messages (Gmail)'),\n",
       " ((b'\\\\HasChildren', b'\\\\Noselect'), b'/', 'Gmail'),\n",
       " ((b'\\\\HasNoChildren',), b'/', 'Gmail/Itens enviados'),\n",
       " ((b'\\\\HasNoChildren',), b'/', 'Gmail/Rascunhos'),\n",
       " ((b'\\\\HasNoChildren',), b'/', 'INBOX'),\n",
       " ((b'\\\\HasNoChildren',), b'/', 'Itens enviados'),\n",
       " ((b'\\\\HasNoChildren',), b'/', 'Junk E-mail'),\n",
       " ((b'\\\\HasNoChildren',), b'/', 'Notes'),\n",
       " ((b'\\\\HasNoChildren',), b'/', 'Rascunhos'),\n",
       " ((b'\\\\HasNoChildren',), b'/', 'Scheduled'),\n",
       " ((b'\\\\HasNoChildren',), b'/', 'Sent'),\n",
       " ((b'\\\\HasNoChildren',), b'/', 'Trash'),\n",
       " ((b'\\\\HasNoChildren',), b'/', 'Unwanted'),\n",
       " ((b'\\\\HasChildren', b'\\\\Noselect'), b'/', '[Gmail]'),\n",
       " ((b'\\\\All', b'\\\\HasNoChildren'), b'/', '[Gmail]/All Mail'),\n",
       " ((b'\\\\Drafts', b'\\\\HasNoChildren'), b'/', '[Gmail]/Drafts'),\n",
       " ((b'\\\\HasNoChildren', b'\\\\Important'), b'/', '[Gmail]/Important'),\n",
       " ((b'\\\\HasNoChildren', b'\\\\Sent'), b'/', '[Gmail]/Sent Mail'),\n",
       " ((b'\\\\HasNoChildren', b'\\\\Junk'), b'/', '[Gmail]/Spam'),\n",
       " ((b'\\\\Flagged', b'\\\\HasNoChildren'), b'/', '[Gmail]/Starred'),\n",
       " ((b'\\\\HasNoChildren', b'\\\\Trash'), b'/', '[Gmail]/Trash'),\n",
       " ((b'\\\\HasNoChildren',), b'/', '[Gmail]Lixeira')]"
      ]
     },
     "execution_count": 25,
     "metadata": {},
     "output_type": "execute_result"
    }
   ],
   "source": [
    "conn.list_folders()"
   ]
  },
  {
   "cell_type": "code",
   "execution_count": 26,
   "metadata": {},
   "outputs": [
    {
     "data": {
      "text/plain": [
       "{b'PERMANENTFLAGS': (b'\\\\Answered',\n",
       "  b'\\\\Flagged',\n",
       "  b'\\\\Draft',\n",
       "  b'\\\\Deleted',\n",
       "  b'\\\\Seen',\n",
       "  b'$Forwarded',\n",
       "  b'$Junk',\n",
       "  b'$MDNSent',\n",
       "  b'$NotJunk',\n",
       "  b'$NotPhishing',\n",
       "  b'$Phishing',\n",
       "  b'JunkRecorded',\n",
       "  b'NotJunk',\n",
       "  b'\\\\*'),\n",
       " b'FLAGS': (b'\\\\Answered',\n",
       "  b'\\\\Flagged',\n",
       "  b'\\\\Draft',\n",
       "  b'\\\\Deleted',\n",
       "  b'\\\\Seen',\n",
       "  b'$Forwarded',\n",
       "  b'$Junk',\n",
       "  b'$MDNSent',\n",
       "  b'$NotJunk',\n",
       "  b'$NotPhishing',\n",
       "  b'$Phishing',\n",
       "  b'JunkRecorded',\n",
       "  b'NotJunk'),\n",
       " b'UIDVALIDITY': 601547236,\n",
       " b'EXISTS': 13,\n",
       " b'RECENT': 0,\n",
       " b'UIDNEXT': 106085,\n",
       " b'HIGHESTMODSEQ': 11695219,\n",
       " b'READ-WRITE': True}"
      ]
     },
     "execution_count": 26,
     "metadata": {},
     "output_type": "execute_result"
    }
   ],
   "source": [
    "conn.select_folder('INBOX', readonly=False)"
   ]
  },
  {
   "cell_type": "code",
   "execution_count": 30,
   "metadata": {},
   "outputs": [
    {
     "data": {
      "text/plain": [
       "[106067, 106068, 106069, 106071, 106075, 106076, 106078, 106081]"
      ]
     },
     "execution_count": 30,
     "metadata": {},
     "output_type": "execute_result"
    }
   ],
   "source": [
    "UIDs = conn.search([u'ON', datetime.date(2018, 11, 7)])\n",
    "UIDs"
   ]
  },
  {
   "cell_type": "code",
   "execution_count": 33,
   "metadata": {},
   "outputs": [],
   "source": [
    "conn.delete_messages([106067],[106068])"
   ]
  },
  {
   "cell_type": "code",
   "execution_count": 34,
   "metadata": {},
   "outputs": [
    {
     "data": {
      "text/plain": [
       "[106068, 106069, 106071, 106075, 106076, 106078, 106081]"
      ]
     },
     "execution_count": 34,
     "metadata": {},
     "output_type": "execute_result"
    }
   ],
   "source": [
    "UIDs = conn.search([u'ON', datetime.date(2018, 11, 7)])\n",
    "UIDs"
   ]
  },
  {
   "cell_type": "code",
   "execution_count": 35,
   "metadata": {},
   "outputs": [
    {
     "data": {
      "text/plain": [
       "{106068: (b'\\\\Deleted',),\n",
       " 106069: (b'\\\\Deleted',),\n",
       " 106071: (b'\\\\Deleted',),\n",
       " 106075: (b'\\\\Deleted',),\n",
       " 106076: (b'\\\\Deleted',),\n",
       " 106078: (b'\\\\Deleted',),\n",
       " 106081: (b'\\\\Deleted',)}"
      ]
     },
     "execution_count": 35,
     "metadata": {},
     "output_type": "execute_result"
    }
   ],
   "source": [
    "conn.delete_messages(UIDs)"
   ]
  },
  {
   "cell_type": "code",
   "execution_count": 36,
   "metadata": {},
   "outputs": [
    {
     "data": {
      "text/plain": [
       "[]"
      ]
     },
     "execution_count": 36,
     "metadata": {},
     "output_type": "execute_result"
    }
   ],
   "source": [
    "UIDs = conn.search([u'ON', datetime.date(2018, 11, 7)])\n",
    "UIDs"
   ]
  }
 ],
 "metadata": {
  "kernelspec": {
   "display_name": "Python 3",
   "language": "python",
   "name": "python3"
  },
  "language_info": {
   "codemirror_mode": {
    "name": "ipython",
    "version": 3
   },
   "file_extension": ".py",
   "mimetype": "text/x-python",
   "name": "python",
   "nbconvert_exporter": "python",
   "pygments_lexer": "ipython3",
   "version": "3.6.6"
  }
 },
 "nbformat": 4,
 "nbformat_minor": 2
}
