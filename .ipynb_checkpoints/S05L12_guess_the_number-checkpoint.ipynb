{
 "cells": [
  {
   "cell_type": "markdown",
   "metadata": {},
   "source": [
    "# This is a guess the number game."
   ]
  },
  {
   "cell_type": "code",
   "execution_count": 2,
   "metadata": {},
   "outputs": [
    {
     "name": "stdout",
     "output_type": "stream",
     "text": [
      "Hello. What is your name?\n",
      "Sandra\n",
      "\n",
      "Well, Sandra, I am thinking of a number between 1 and 20.\n",
      "Take a guess.\n",
      "1\n",
      "Your guess is too low.\n",
      "Take a guess.\n",
      "1\n",
      "Your guess is too low.\n",
      "Take a guess.\n",
      "1\n",
      "Your guess is too low.\n",
      "Take a guess.\n",
      "1\n",
      "Your guess is too low.\n",
      "Take a guess.\n",
      "1\n",
      "Your guess is too low.\n",
      "Take a guess.\n",
      "1\n",
      "Your guess is too low.\n",
      "Nope. The number I was thinking was 16\n"
     ]
    }
   ],
   "source": [
    "import random\n",
    "\n",
    "print('Hello. What is your name?')\n",
    "name = input()\n",
    "\n",
    "secret_number = random.randint(1, 20)\n",
    "\n",
    "print('\\nWell, ' + name + ', I am thinking of a number between 1 and 20.')\n",
    "\n",
    "for guesses_taken in range(1, 7):\n",
    "    print('Take a guess.')\n",
    "    guess = int(input())\n",
    "    \n",
    "    if guess < secret_number:\n",
    "        print(\"Your guess is too low.\")\n",
    "    elif guess > secret_number:\n",
    "        print(\"Your guess is too high.\")\n",
    "    else:\n",
    "        break # This condition is for the correct guess!\n",
    "        \n",
    "if guess == secret_number:\n",
    "    print('Good job, ' + name + '! You guessed my number in ' + str(guesses_taken) + ' guesses.!')\n",
    "else:\n",
    "    print('Nope. The number I was thinking was '+ str(secret_number))"
   ]
  },
  {
   "cell_type": "markdown",
   "metadata": {},
   "source": [
    "Pay attention on the conversions integer to strings and strings to integer. "
   ]
  }
 ],
 "metadata": {
  "kernelspec": {
   "display_name": "Python 3",
   "language": "python",
   "name": "python3"
  },
  "language_info": {
   "codemirror_mode": {
    "name": "ipython",
    "version": 3
   },
   "file_extension": ".py",
   "mimetype": "text/x-python",
   "name": "python",
   "nbconvert_exporter": "python",
   "pygments_lexer": "ipython3",
   "version": "3.6.6"
  }
 },
 "nbformat": 4,
 "nbformat_minor": 2
}
