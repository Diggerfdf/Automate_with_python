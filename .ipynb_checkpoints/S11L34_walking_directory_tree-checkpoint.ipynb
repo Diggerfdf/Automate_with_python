{
 "cells": [
  {
   "cell_type": "markdown",
   "metadata": {},
   "source": [
    "## Practicing folder Creation"
   ]
  },
  {
   "cell_type": "code",
   "execution_count": 11,
   "metadata": {},
   "outputs": [],
   "source": [
    "import os, shutil"
   ]
  },
  {
   "cell_type": "code",
   "execution_count": 12,
   "metadata": {},
   "outputs": [
    {
     "data": {
      "text/plain": [
       "'/home/digger/Classes/Python/Automate_with/Delicious'"
      ]
     },
     "execution_count": 12,
     "metadata": {},
     "output_type": "execute_result"
    }
   ],
   "source": [
    "os.getcwd()"
   ]
  },
  {
   "cell_type": "code",
   "execution_count": 13,
   "metadata": {},
   "outputs": [],
   "source": [
    "os.chdir('/home/digger/Classes/Python/Automate_with/Delicious/')"
   ]
  },
  {
   "cell_type": "code",
   "execution_count": 14,
   "metadata": {},
   "outputs": [
    {
     "data": {
      "text/plain": [
       "'/home/digger/Classes/Python/Automate_with/Delicious'"
      ]
     },
     "execution_count": 14,
     "metadata": {},
     "output_type": "execute_result"
    }
   ],
   "source": [
    "os.getcwd()"
   ]
  },
  {
   "cell_type": "code",
   "execution_count": 15,
   "metadata": {},
   "outputs": [
    {
     "ename": "FileExistsError",
     "evalue": "[Errno 17] File exists: 'foo'",
     "output_type": "error",
     "traceback": [
      "\u001b[0;31m---------------------------------------------------------------------------\u001b[0m",
      "\u001b[0;31mFileExistsError\u001b[0m                           Traceback (most recent call last)",
      "\u001b[0;32m<ipython-input-15-07215381960e>\u001b[0m in \u001b[0;36m<module>\u001b[0;34m\u001b[0m\n\u001b[0;32m----> 1\u001b[0;31m \u001b[0mos\u001b[0m\u001b[0;34m.\u001b[0m\u001b[0mmkdir\u001b[0m\u001b[0;34m(\u001b[0m\u001b[0;34m'foo'\u001b[0m\u001b[0;34m)\u001b[0m\u001b[0;34m\u001b[0m\u001b[0m\n\u001b[0m",
      "\u001b[0;31mFileExistsError\u001b[0m: [Errno 17] File exists: 'foo'"
     ]
    }
   ],
   "source": [
    "os.mkdir('foo')"
   ]
  },
  {
   "cell_type": "code",
   "execution_count": 16,
   "metadata": {
    "scrolled": true
   },
   "outputs": [
    {
     "ename": "FileExistsError",
     "evalue": "[Errno 17] File exists: 'walnut'",
     "output_type": "error",
     "traceback": [
      "\u001b[0;31m---------------------------------------------------------------------------\u001b[0m",
      "\u001b[0;31mFileExistsError\u001b[0m                           Traceback (most recent call last)",
      "\u001b[0;32m<ipython-input-16-60f2c76680cd>\u001b[0m in \u001b[0;36m<module>\u001b[0;34m\u001b[0m\n\u001b[0;32m----> 1\u001b[0;31m \u001b[0mos\u001b[0m\u001b[0;34m.\u001b[0m\u001b[0mmkdir\u001b[0m\u001b[0;34m(\u001b[0m\u001b[0;34m'walnut'\u001b[0m\u001b[0;34m)\u001b[0m\u001b[0;34m\u001b[0m\u001b[0m\n\u001b[0m",
      "\u001b[0;31mFileExistsError\u001b[0m: [Errno 17] File exists: 'walnut'"
     ]
    }
   ],
   "source": [
    "os.mkdir('walnut')"
   ]
  },
  {
   "cell_type": "markdown",
   "metadata": {},
   "source": [
    "you can use ```os.walk()``` to navigate through a folder hierarchy"
   ]
  },
  {
   "cell_type": "code",
   "execution_count": 20,
   "metadata": {},
   "outputs": [
    {
     "name": "stdout",
     "output_type": "stream",
     "text": [
      "The folder is /home/digger/Classes/Python/Automate_with/Delicious/\n",
      "The subfolders in /home/digger/Classes/Python/Automate_with/Delicious/ are: ['walnut', 'foo']\n",
      "The filenames in /home/digger/Classes/Python/Automate_with/Delicious/ are: ['spam.txt', 'spamspamspam.txt']\n",
      "\n",
      "The folder is /home/digger/Classes/Python/Automate_with/Delicious/walnut\n",
      "The subfolders in /home/digger/Classes/Python/Automate_with/Delicious/walnut are: ['waffles']\n",
      "The filenames in /home/digger/Classes/Python/Automate_with/Delicious/walnut are: ['eggs.txt']\n",
      "\n",
      "The folder is /home/digger/Classes/Python/Automate_with/Delicious/walnut/waffles\n",
      "The subfolders in /home/digger/Classes/Python/Automate_with/Delicious/walnut/waffles are: []\n",
      "The filenames in /home/digger/Classes/Python/Automate_with/Delicious/walnut/waffles are: ['ham.txt', 'bacon.txt']\n",
      "\n",
      "The folder is /home/digger/Classes/Python/Automate_with/Delicious/foo\n",
      "The subfolders in /home/digger/Classes/Python/Automate_with/Delicious/foo are: []\n",
      "The filenames in /home/digger/Classes/Python/Automate_with/Delicious/foo are: ['spam.txt']\n",
      "\n"
     ]
    }
   ],
   "source": [
    "for folderName, subfolders, filenames in os.walk('/home/digger/Classes/Python/Automate_with/Delicious/'):\n",
    "    print('The folder is ' + folderName)\n",
    "    print('The subfolders in ' + folderName + ' are: ' + str(subfolders))\n",
    "    print('The filenames in ' + folderName + ' are: ' + str(filenames))\n",
    "    print()"
   ]
  },
  {
   "cell_type": "markdown",
   "metadata": {},
   "source": [
    "from here you can manipulate the files and folder with if statements and for loops."
   ]
  }
 ],
 "metadata": {
  "kernelspec": {
   "display_name": "Python 3",
   "language": "python",
   "name": "python3"
  },
  "language_info": {
   "codemirror_mode": {
    "name": "ipython",
    "version": 3
   },
   "file_extension": ".py",
   "mimetype": "text/x-python",
   "name": "python",
   "nbconvert_exporter": "python",
   "pygments_lexer": "ipython3",
   "version": "3.6.6"
  }
 },
 "nbformat": 4,
 "nbformat_minor": 2
}
