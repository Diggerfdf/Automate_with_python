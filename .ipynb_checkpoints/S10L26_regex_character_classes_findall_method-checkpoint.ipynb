{
 "cells": [
  {
   "cell_type": "markdown",
   "metadata": {},
   "source": [
    "# Regex Character classes and the findall() Method"
   ]
  },
  {
   "cell_type": "code",
   "execution_count": 1,
   "metadata": {},
   "outputs": [],
   "source": [
    "import regex as re"
   ]
  },
  {
   "cell_type": "markdown",
   "metadata": {},
   "source": [
    "## Find All"
   ]
  },
  {
   "cell_type": "code",
   "execution_count": 2,
   "metadata": {},
   "outputs": [],
   "source": [
    "phoneRegex = re.compile(r'\\d\\d\\d-\\d\\d\\d-\\d\\d\\d\\d')"
   ]
  },
  {
   "cell_type": "code",
   "execution_count": 3,
   "metadata": {},
   "outputs": [
    {
     "data": {
      "text/plain": [
       "regex.Regex('\\\\d\\\\d\\\\d-\\\\d\\\\d\\\\d-\\\\d\\\\d\\\\d\\\\d', flags=regex.V0)"
      ]
     },
     "execution_count": 3,
     "metadata": {},
     "output_type": "execute_result"
    }
   ],
   "source": [
    "phoneRegex"
   ]
  },
  {
   "cell_type": "code",
   "execution_count": 6,
   "metadata": {},
   "outputs": [],
   "source": [
    "resume =  '''\n",
    "als;djfa;jshfadh;alsjgpasousa;jf\n",
    "asdfasjasjfsa;ljfas\n",
    "a;glkjas;lgjk;ashgirpwuyhgna\n",
    "alk;gdhalk;gjpowiegj;lakjsg\n",
    "a\n",
    "011-555-1234 and 011-222-4567 as;ldfjpwoqig;laknbvrupinbvakrjfsajf alsn as\n",
    "asa\n",
    "sdjfa;slgf aoug\n",
    "asgajgf;lasg\n",
    "ag;oajhga\n",
    "g;agow[rjgfr\n",
    "akfgpaqoegrj Puta que pariu quanto momomomomomomomomomomomomo\n",
    "'''"
   ]
  },
  {
   "cell_type": "code",
   "execution_count": 7,
   "metadata": {},
   "outputs": [
    {
     "data": {
      "text/plain": [
       "['011-555-1234', '011-222-4567']"
      ]
     },
     "execution_count": 7,
     "metadata": {},
     "output_type": "execute_result"
    }
   ],
   "source": [
    "phoneRegex.findall(resume)"
   ]
  },
  {
   "cell_type": "markdown",
   "metadata": {},
   "source": [
    "If you use a regular expression without groups markings \"()\" It will return a list of the strings found. This is the behavior for regex objects that have zero OR ONE groups in them."
   ]
  },
  {
   "cell_type": "code",
   "execution_count": 8,
   "metadata": {},
   "outputs": [],
   "source": [
    "phoneRegex = re.compile(r'(\\d\\d\\d)-(\\d\\d\\d-\\d\\d\\d\\d)')"
   ]
  },
  {
   "cell_type": "code",
   "execution_count": 9,
   "metadata": {},
   "outputs": [
    {
     "data": {
      "text/plain": [
       "[('011', '555-1234'), ('011', '222-4567')]"
      ]
     },
     "execution_count": 9,
     "metadata": {},
     "output_type": "execute_result"
    }
   ],
   "source": [
    "phoneRegex.findall(resume)"
   ]
  },
  {
   "cell_type": "markdown",
   "metadata": {},
   "source": [
    "Since you place the parenthesis you will get back a list with tuples and the Values inside, corresponding to the groups. "
   ]
  },
  {
   "cell_type": "markdown",
   "metadata": {},
   "source": [
    "If you place Paranthesis in everything, you will get 3 groups. 1 for full number, 1 for area code and 1 for the number."
   ]
  },
  {
   "cell_type": "code",
   "execution_count": 16,
   "metadata": {},
   "outputs": [],
   "source": [
    "phoneRegex = re.compile(r'((\\d\\d\\d)-(\\d\\d\\d-\\d\\d\\d\\d))')"
   ]
  },
  {
   "cell_type": "code",
   "execution_count": 17,
   "metadata": {},
   "outputs": [
    {
     "data": {
      "text/plain": [
       "[('011-555-1234', '011', '555-1234'), ('011-222-4567', '011', '222-4567')]"
      ]
     },
     "execution_count": 17,
     "metadata": {},
     "output_type": "execute_result"
    }
   ],
   "source": [
    "phoneRegex.findall(resume)"
   ]
  },
  {
   "cell_type": "markdown",
   "metadata": {},
   "source": [
    "Find All doesn't return a match object. It returns a list of strigs or a list of tuples of strings"
   ]
  },
  {
   "cell_type": "markdown",
   "metadata": {},
   "source": [
    "## Character Classes"
   ]
  },
  {
   "cell_type": "code",
   "execution_count": 19,
   "metadata": {},
   "outputs": [],
   "source": [
    "digitRegex = re.compile('r\\d') # or (r'(0|1|2|3|4|5|6|7|8|9)')"
   ]
  },
  {
   "cell_type": "markdown",
   "metadata": {},
   "source": [
    "| Shorthad character class | Represents | \n",
    "| -------------------- | ------------ |\n",
    "| \\d | Any Numeric digit from 0 to 9 |\n",
    "| \\D | Any character that is *not* a numeric digit from 0 to 9 |\n",
    "| \\w | Any letter, numeric digit, or the underscore character (Think this as matching \"word\" characters.) |\n",
    "| \\W | Any character that is *not* a letter, numeric digit, or the underscore character. |\n",
    "| \\s | Any space, tab, or newline character. (Think of this as matching \"space\" characters.) |\n",
    "| \\S | Any character that is *not* a space, tab or newline. |"
   ]
  },
  {
   "cell_type": "markdown",
   "metadata": {},
   "source": [
    "Character classes are nice for shortening regular expressions. The character class [0-5] will match only the numbers 0 to 5; this is much shorter than typing (0|1|2|3|4|5).\n",
    "\n",
    "Example:"
   ]
  },
  {
   "cell_type": "code",
   "execution_count": 35,
   "metadata": {},
   "outputs": [],
   "source": [
    "xmasRegex = re.compile(r'\\d+\\s\\w+\\s\\w+')"
   ]
  },
  {
   "cell_type": "code",
   "execution_count": 36,
   "metadata": {},
   "outputs": [
    {
     "data": {
      "text/plain": [
       "['12 drummers drumming',\n",
       " '11 pipers piping',\n",
       " '10 lords a',\n",
       " '9 ladies dancing',\n",
       " '8 maids a',\n",
       " '7 swans a',\n",
       " '6 geese a',\n",
       " '5 golden rings',\n",
       " '4 calling birds',\n",
       " '3 french hens',\n",
       " '2 turtle doves',\n",
       " '1 partridge in']"
      ]
     },
     "execution_count": 36,
     "metadata": {},
     "output_type": "execute_result"
    }
   ],
   "source": [
    " xmasRegex.findall('12 drummers drumming, 11 pipers piping, 10 lords a leaping, 9 ladies dancing, 8 maids a milking,\\\n",
    " 7 swans a swimming, 6 geese a laying, 5 golden rings, 4 calling birds, 3 french hens, 2 turtle doves, 1 partridge in a pear tree')"
   ]
  },
  {
   "cell_type": "markdown",
   "metadata": {},
   "source": [
    "The regular expression \\d+\\s\\w+ will match text that has one or more numeric digits (\\d+), followed by a whitespace character (\\s), followed by one or more letter/digit/underscore characters (\\w+). The findall() method returns all matching strings of the regex pattern in a list."
   ]
  },
  {
   "cell_type": "markdown",
   "metadata": {},
   "source": [
    "### Creating your Own Classes"
   ]
  },
  {
   "cell_type": "code",
   "execution_count": 42,
   "metadata": {},
   "outputs": [],
   "source": [
    "vowelRegex = re.compile(r'[aeiouAEIOU]')    # = r'(a|e|i|o|u)'"
   ]
  },
  {
   "cell_type": "code",
   "execution_count": 43,
   "metadata": {},
   "outputs": [
    {
     "data": {
      "text/plain": [
       "['o', 'o', 'o', 'e', 'a', 'a', 'o', 'o']"
      ]
     },
     "execution_count": 43,
     "metadata": {},
     "output_type": "execute_result"
    }
   ],
   "source": [
    "vowelRegex.findall('Robocop eats baby food.')"
   ]
  },
  {
   "cell_type": "code",
   "execution_count": 44,
   "metadata": {},
   "outputs": [],
   "source": [
    "doubleVowelRegex = re.compile(r'[aeiouAEIOU]{2}') "
   ]
  },
  {
   "cell_type": "code",
   "execution_count": 45,
   "metadata": {},
   "outputs": [
    {
     "data": {
      "text/plain": [
       "['ea', 'oo']"
      ]
     },
     "execution_count": 45,
     "metadata": {},
     "output_type": "execute_result"
    }
   ],
   "source": [
    "doubleVowelRegex.findall('Robocop eats baby food.')"
   ]
  },
  {
   "cell_type": "markdown",
   "metadata": {},
   "source": [
    "#### Negative character classes"
   ]
  },
  {
   "cell_type": "markdown",
   "metadata": {},
   "source": [
    "The Carret sign \"^\" will negate the expression. So, it will find everything BUT a vowel"
   ]
  },
  {
   "cell_type": "code",
   "execution_count": 49,
   "metadata": {},
   "outputs": [],
   "source": [
    "consonantsRegex = re.compile(r'[^aeiouAEIOU]')"
   ]
  },
  {
   "cell_type": "code",
   "execution_count": 50,
   "metadata": {},
   "outputs": [
    {
     "data": {
      "text/plain": [
       "['R', 'b', 'c', 'p', ' ', 't', 's', ' ', 'b', 'b', 'y', ' ', 'f', 'd', '.']"
      ]
     },
     "execution_count": 50,
     "metadata": {},
     "output_type": "execute_result"
    }
   ],
   "source": [
    "consonantsRegex.findall('Robocop eats baby food.')"
   ]
  }
 ],
 "metadata": {
  "kernelspec": {
   "display_name": "Python 3",
   "language": "python",
   "name": "python3"
  },
  "language_info": {
   "codemirror_mode": {
    "name": "ipython",
    "version": 3
   },
   "file_extension": ".py",
   "mimetype": "text/x-python",
   "name": "python",
   "nbconvert_exporter": "python",
   "pygments_lexer": "ipython3",
   "version": "3.6.6"
  }
 },
 "nbformat": 4,
 "nbformat_minor": 2
}
