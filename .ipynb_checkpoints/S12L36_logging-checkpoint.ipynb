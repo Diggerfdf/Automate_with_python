{
 "cells": [
  {
   "cell_type": "markdown",
   "metadata": {},
   "source": [
    "# Logging"
   ]
  },
  {
   "cell_type": "markdown",
   "metadata": {},
   "source": [
    "use the logging module at the top of your code, with the parameters."
   ]
  },
  {
   "cell_type": "code",
   "execution_count": null,
   "metadata": {},
   "outputs": [],
   "source": [
    "import logging\n",
    "logging.basicConfig(level=logging.DEBUG, format='%(asctime)s - %(levelname)s - %(message)s')"
   ]
  },
  {
   "cell_type": "markdown",
   "metadata": {},
   "source": [
    "## Factorial Buggy Program"
   ]
  },
  {
   "cell_type": "markdown",
   "metadata": {},
   "source": [
    "Factorial is:"
   ]
  },
  {
   "cell_type": "code",
   "execution_count": null,
   "metadata": {},
   "outputs": [],
   "source": [
    "1*2*3*4"
   ]
  },
  {
   "cell_type": "code",
   "execution_count": null,
   "metadata": {},
   "outputs": [],
   "source": [
    "1*2*3*4*5*6*7"
   ]
  },
  {
   "cell_type": "code",
   "execution_count": null,
   "metadata": {},
   "outputs": [],
   "source": [
    "def factorial(n):\n",
    "    total = 1\n",
    "    for i in range(n + 1):\n",
    "        total *= i\n",
    "    return total"
   ]
  },
  {
   "cell_type": "code",
   "execution_count": null,
   "metadata": {},
   "outputs": [],
   "source": [
    "print(factorial(5))"
   ]
  },
  {
   "cell_type": "markdown",
   "metadata": {},
   "source": [
    "Zero? We can use logging to find out what is wrong."
   ]
  },
  {
   "cell_type": "code",
   "execution_count": null,
   "metadata": {},
   "outputs": [],
   "source": [
    "logging.debug('start of program')\n",
    "\n",
    "def factorial(n):\n",
    "    logging.debug('Start of factorial (%s)' % (n))\n",
    "    total = 1\n",
    "    for i in range(n + 1):\n",
    "        total *= i\n",
    "        logging.debug('i is %s, total is %s'% (i, total))\n",
    "        \n",
    "    logging.debug('Return value is %s' % (total))\n",
    "    return total"
   ]
  },
  {
   "cell_type": "code",
   "execution_count": null,
   "metadata": {},
   "outputs": [],
   "source": [
    "print(factorial(5))"
   ]
  },
  {
   "cell_type": "markdown",
   "metadata": {},
   "source": [
    "The rage function starts with zero. You need to start at 1."
   ]
  },
  {
   "cell_type": "code",
   "execution_count": null,
   "metadata": {},
   "outputs": [],
   "source": [
    "logging.debug('start of program')\n",
    "\n",
    "def factorial(n):\n",
    "    logging.debug('Start of factorial (%s)' % (n))\n",
    "    total = 1\n",
    "    for i in range(1, n + 1):\n",
    "        total *= i\n",
    "        logging.debug('i is %s, total is %s'% (i, total))\n",
    "        \n",
    "    logging.debug('Return value is %s' % (total))\n",
    "    return total"
   ]
  },
  {
   "cell_type": "code",
   "execution_count": null,
   "metadata": {},
   "outputs": [],
   "source": [
    "print(factorial(5))"
   ]
  },
  {
   "cell_type": "markdown",
   "metadata": {},
   "source": [
    "Using prints statements will become a burden to erase, comment, filter all the times a print statement shows. You can disable logging through a function inside module logging."
   ]
  },
  {
   "cell_type": "markdown",
   "metadata": {},
   "source": [
    "At the top of the program you type ```logging.disable(logging.CRITICAL)```"
   ]
  },
  {
   "cell_type": "code",
   "execution_count": null,
   "metadata": {},
   "outputs": [],
   "source": [
    "logging.disable(logging.CRITICAL)\n",
    "\n",
    "logging.debug('start of program')\n",
    "\n",
    "def factorial(n):\n",
    "    logging.debug('Start of factorial (%s)' % (n))\n",
    "    total = 1\n",
    "    for i in range(1, n + 1):\n",
    "        total *= i\n",
    "        logging.debug('i is %s, total is %s'% (i, total))\n",
    "        \n",
    "    logging.debug('Return value is %s' % (total))\n",
    "    return total"
   ]
  },
  {
   "cell_type": "code",
   "execution_count": null,
   "metadata": {},
   "outputs": [],
   "source": [
    "print(factorial(5))"
   ]
  },
  {
   "cell_type": "markdown",
   "metadata": {},
   "source": [
    "## Log Levels"
   ]
  },
  {
   "cell_type": "markdown",
   "metadata": {},
   "source": [
    "There are five log levels:\n",
    "\n",
    "- Debug (lowest)\n",
    "- info\n",
    "- warning\n",
    "- error\n",
    "- critical (highest)"
   ]
  },
  {
   "cell_type": "markdown",
   "metadata": {},
   "source": [
    "You can call them with:"
   ]
  },
  {
   "cell_type": "markdown",
   "metadata": {},
   "source": [
    "- logging.debug()\n",
    "- logging.info()\n",
    "- logging.warning()\n",
    "- logging.error()\n",
    "- logging.critical()"
   ]
  },
  {
   "cell_type": "markdown",
   "metadata": {},
   "source": [
    "If you disable(logging.CRITICAL) you are disabling ALL debug messages.\n",
    "\n",
    "If you disable(logging.WARNING) you are disabling Warning, info, debug. The levels below..."
   ]
  },
  {
   "cell_type": "markdown",
   "metadata": {},
   "source": [
    "## Logging to a text file"
   ]
  },
  {
   "cell_type": "code",
   "execution_count": 1,
   "metadata": {},
   "outputs": [],
   "source": [
    "import logging\n",
    "\n",
    "logging.basicConfig(filename='myProgramLog.txt', level=logging.DEBUG, format='%(asctime)s - %(levelname)s - %(message)s')\n",
    "\n",
    "logging.debug('start of program')\n",
    "\n",
    "def factorial(n):\n",
    "    logging.debug('Start of factorial (%s)' % (n))\n",
    "    total = 1\n",
    "    for i in range(1, n + 1):\n",
    "        total *= i\n",
    "        logging.debug('i is %s, total is %s'% (i, total))\n",
    "        \n",
    "    logging.debug('Return value is %s' % (total))\n",
    "    return total"
   ]
  },
  {
   "cell_type": "code",
   "execution_count": 2,
   "metadata": {},
   "outputs": [
    {
     "name": "stdout",
     "output_type": "stream",
     "text": [
      "120\n"
     ]
    }
   ],
   "source": [
    "print(factorial(5))"
   ]
  }
 ],
 "metadata": {
  "kernelspec": {
   "display_name": "Python 3",
   "language": "python",
   "name": "python3"
  },
  "language_info": {
   "codemirror_mode": {
    "name": "ipython",
    "version": 3
   },
   "file_extension": ".py",
   "mimetype": "text/x-python",
   "name": "python",
   "nbconvert_exporter": "python",
   "pygments_lexer": "ipython3",
   "version": "3.6.6"
  }
 },
 "nbformat": 4,
 "nbformat_minor": 2
}
