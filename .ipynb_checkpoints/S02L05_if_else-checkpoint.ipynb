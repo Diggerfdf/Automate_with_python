{
 "cells": [
  {
   "cell_type": "code",
   "execution_count": 2,
   "metadata": {},
   "outputs": [
    {
     "name": "stdout",
     "output_type": "stream",
     "text": [
      "Hi Alice\n",
      "Done\n"
     ]
    }
   ],
   "source": [
    "name = 'Alice'\n",
    "if name == 'Alice':\n",
    "    print('Hi Alice')\n",
    "print('Done')"
   ]
  },
  {
   "cell_type": "code",
   "execution_count": 5,
   "metadata": {},
   "outputs": [
    {
     "name": "stdout",
     "output_type": "stream",
     "text": [
      "Access denied\n"
     ]
    }
   ],
   "source": [
    "password = 'x'\n",
    "if password == 'swordfish':\n",
    "    print('Access granted')\n",
    "else:\n",
    "    print('Access denied')\n"
   ]
  },
  {
   "cell_type": "code",
   "execution_count": 12,
   "metadata": {},
   "outputs": [
    {
     "name": "stdout",
     "output_type": "stream",
     "text": [
      "Unlike you, Alice is not an undead, immortal vampire!\n"
     ]
    }
   ],
   "source": [
    "name = 'Bob'\n",
    "age = 3000\n",
    "\n",
    "if name == 'Alice':\n",
    "    print('Hi Alice')\n",
    "elif age < 12:\n",
    "    print('You are not Alice, kiddo')\n",
    "elif age > 2000:\n",
    "    print('Unlike you, Alice is not an undead, immortal vampire!')\n",
    "elif age > 100:\n",
    "    print(\"You are not Alice, grannie.\")"
   ]
  },
  {
   "cell_type": "markdown",
   "metadata": {},
   "source": [
    "Truesy or Falsy. You can use it to check if nothing is typed. In this case it will be returned False."
   ]
  },
  {
   "cell_type": "code",
   "execution_count": 15,
   "metadata": {},
   "outputs": [
    {
     "name": "stdout",
     "output_type": "stream",
     "text": [
      "Enter a name: \n",
      "\n",
      "You did not enter a name\n"
     ]
    }
   ],
   "source": [
    "print('Enter a name: ')\n",
    "name = input()\n",
    "\n",
    "if name != '':\n",
    "    print('Thank you for entering a name.')\n",
    "else:\n",
    "    print('You did not enter a name')"
   ]
  }
 ],
 "metadata": {
  "kernelspec": {
   "display_name": "Python 3",
   "language": "python",
   "name": "python3"
  },
  "language_info": {
   "codemirror_mode": {
    "name": "ipython",
    "version": 3
   },
   "file_extension": ".py",
   "mimetype": "text/x-python",
   "name": "python",
   "nbconvert_exporter": "python",
   "pygments_lexer": "ipython3",
   "version": "3.6.6"
  }
 },
 "nbformat": 4,
 "nbformat_minor": 2
}
